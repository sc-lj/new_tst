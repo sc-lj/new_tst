{
 "cells": [
  {
   "cell_type": "code",
   "execution_count": 1,
   "metadata": {
    "collapsed": true,
    "pycharm": {
     "is_executing": false
    }
   },
   "outputs": [
    {
     "name": "stdout",
     "text": [
      "样本数量: 6315\n"
     ],
     "output_type": "stream"
    }
   ],
   "source": [
    "import json\n",
    "\n",
    "with open(\"train.json\",'r',encoding='utf-8') as f:\n",
    "    data = f.read()\n",
    "\n",
    "data = json.loads(data)\n",
    "print(\"样本数量:\", len(data))"
   ]
  },
  {
   "cell_type": "markdown",
   "source": [
    "总的样本数量为6315，\n",
    "\n",
    "研究每个样本中问题数量：\n",
    "\n",
    "问题数量为1的样本个数为：509\n",
    "\n",
    "问题数量为2的样本个数为：2656\n",
    "\n",
    "问题数量为3的样本个数为：3004\n",
    "\n",
    "问题数量为4的样本个数为：138\n",
    "\n",
    "问题数量为5的样本个数为：8"
   ],
   "metadata": {
    "collapsed": false,
    "pycharm": {
     "name": "#%% md\n",
     "is_executing": false
    }
   }
  },
  {
   "cell_type": "code",
   "source": [
    "from collections import Counter\n",
    "\n",
    "numbers = []\n",
    "for d in data:\n",
    "    numbers.append(len(d['Questions']))\n",
    "\n",
    "print(\"问题数量分布:\", Counter(numbers))\n"
   ],
   "metadata": {
    "collapsed": false,
    "pycharm": {
     "name": "#%% \n",
     "is_executing": false
    }
   },
   "execution_count": 2,
   "outputs": [
    {
     "name": "stdout",
     "text": [
      "问题数量分布: Counter({3: 3004, 2: 2656, 1: 509, 4: 138, 5: 8})\n"
     ],
     "output_type": "stream"
    }
   ]
  },
  {
   "cell_type": "markdown",
   "source": [
    "查找样本中答案的分布情况"
   ],
   "metadata": {
    "collapsed": false
   }
  },
  {
   "cell_type": "code",
   "execution_count": 5,
   "outputs": [
    {
     "name": "stdout",
     "text": [
      "答案分布: Counter({'C': 4633, 'B': 4097, 'D': 3994, 'A': 2701})\n选项个数分布: Counter({4: 15329, 3: 71, 2: 25})\n"
     ],
     "output_type": "stream"
    }
   ],
   "source": [
    "choice_number = []\n",
    "answers_dis = []\n",
    "for d in data:\n",
    "    for q in d['Questions']:\n",
    "        answers_dis.append(q['Answer'])\n",
    "        choice_number.append(len(q['Choices']))\n",
    "            \n",
    "print(\"答案分布:\", Counter(answers_dis))\n",
    "print(\"选项个数分布:\",Counter(choice_number))"
   ],
   "metadata": {
    "collapsed": false,
    "pycharm": {
     "name": "#%%\n",
     "is_executing": false
    }
   }
  },
  {
   "cell_type": "code",
   "execution_count": 7,
   "outputs": [
    {
     "name": "stdout",
     "text": [
      "{'Question': '本文的开头有两种不同的译文，你觉得哪种译文更能体现童话语言的特点？', 'Choices': ['A. 一个国王有一个独生子，国王爱他就像爱自己眼睛一样。可这个王子总是不快乐，整天整天地站在阳台上，看着远处。', 'B. 国王有一个独生子，国王很疼爱他，视若珍宝。可这个王子总是郁郁寡欢，整天站在阳台上，看着远处。'], 'Answer': 'A', 'Q_id': '007001'}\n{'Question': '判断晏子朝，乘弊车，驾驽马中的朝解释为上朝是否正确', 'Choices': ['A. 正确', 'B. 错误'], 'Answer': 'A', 'Q_id': '024602'}\n{'Question': '若在选文第④段括号内填写一个事实论据，下面的两个例子哪一个更好？说说你的理由。', 'Choices': ['A. 音乐家冼星海在延安时，没有钢琴供他练奏，可对音乐满怀热忱的他，以乐观的心态，用碗、碟、盆、罐等替代钢琴，经过长期酝酿，终于创作出了史诗般的作品——《黄河人合唱》。', 'B. 周恩来总理从少年时期就树立了“为中华之崛起而读书”的远大理想，抱定了救国救比的信念，以极大的热忱投入到伟大的革命事业当中，最终成为新中国的缔造者之一。'], 'Answer': 'A', 'Q_id': '039501'}\n{'Question': '在内容的选择与表达上，下面哪一首小诗与冰心的《繁星·春水》中的作品更为接近？', 'Choices': ['A. 母亲啊/您是繁茂的大树/我是归巢的鸟儿/暮色四合/我藏进您的心中', 'B. 母亲啊/您是繁茂的大树/树干上的条条斑痕/都是您辛劳岁月的见证'], 'Answer': 'B', 'Q_id': '077401'}\n{'Question': '根据原文内容，下列说法不正确的一项是', 'Choices': ['A. 如果不对外开放，不实行“拿来主义” ，就没有中国改革开放四十年的快速发展。', 'B. 只要拿来主义者沉着，勇猛，有辨别，不自私，就一定能创造出新文艺'], 'Answer': 'B', 'Q_id': '156403'}\n"
     ],
     "output_type": "stream"
    }
   ],
   "source": [
    "\"\"\"查看每个选项个数小于3的\"\"\"\n",
    "two_choice = []\n",
    "for d in data:\n",
    "    for q in d['Questions']:\n",
    "        if len(q['Choices'])==2:\n",
    "            two_choice.append(q)\n",
    "for q in two_choice[:5]:\n",
    "    print(q)"
   ],
   "metadata": {
    "collapsed": false,
    "pycharm": {
     "name": "#%%\n",
     "is_executing": false
    }
   }
  },
  {
   "cell_type": "code",
   "execution_count": 12,
   "outputs": [
    {
     "name": "stdout",
     "text": [
      "processd\n"
     ],
     "output_type": "stream"
    }
   ],
   "source": [
    "\"\"\"检查答案是否在选项中\"\"\"\n",
    "for d in data:\n",
    "    for q in d['Questions']:\n",
    "        answer= q['Answer'].lower().strip()\n",
    "        if not any([True if c.lower().strip().startswith(answer) else False for c in q['Choices']]):\n",
    "            print(q)\n",
    "print(\"processd\")"
   ],
   "metadata": {
    "collapsed": false,
    "pycharm": {
     "name": "#%%\n",
     "is_executing": false
    }
   }
  },
  {
   "cell_type": "markdown",
   "source": [
    "查看选项中是否有“以上全部”等字样；\n",
    "\n",
    "找出选项中不含中文的\n",
    "\n",
    "找出选项字符小于3的"
   ],
   "metadata": {
    "collapsed": false,
    "pycharm": {
     "name": "#%% md\n",
     "is_executing": false
    }
   }
  },
  {
   "cell_type": "code",
   "execution_count": 13,
   "outputs": [
    {
     "name": "stdout",
     "text": [
      "223\n"
     ],
     "output_type": "stream"
    }
   ],
   "source": [
    "import re\n",
    "choice_space = re.compile(\"^[ABCDabcd]．?\")\n",
    "\n",
    "chinese = re.compile('[\\u4e00-\\u9fa5]+')\n",
    "\n",
    "answer_no_chinese_number = 0\n",
    "answer_no_chinese = []\n",
    "for d in data:\n",
    "    for q in d['Questions']:\n",
    "        for c in q['Choices']:\n",
    "            c = choice_space.sub('', c).strip()\n",
    "            if not chinese.search(c):\n",
    "                # print(q['Question'])\n",
    "                # print(\"________\")\n",
    "                answer_no_chinese_number += 1\n",
    "                answer_no_chinese.append(d)\n",
    "                break\n",
    "    \n",
    "print(answer_no_chinese_number)\n",
    "\n",
    "with open(\"check_text.json\", 'w', encoding=\"utf-8\") as f:\n",
    "    f.write(json.dumps(answer_no_chinese,ensure_ascii=False))\n",
    "\n"
   ],
   "metadata": {
    "collapsed": false,
    "pycharm": {
     "name": "#%%\n",
     "is_executing": false
    }
   }
  },
  {
   "cell_type": "markdown",
   "source": [
    "解题思路 1\n",
    "\n",
    "1. 对于一般选项的问题：如<br>\n",
    "\"下列对原文有关内容的分析和概括，不正确的一项是\",<br>\n",
    "\"A、高祖之所以要缉拿季布， 是因为高祖对季布曾经使他身陷绝境耿耿于怀。\",<br>\n",
    "\"B、朱家不仅冒险收留了季布，而且为他奔走，寻找理由，当季布最终被赦免后，他又悄然退避，显示出高尚的人格。\",<br>\n",
    "\"C、丁公当年遇到身处危难之中的高祖，被高祖的好话所打动，不仅没有将高祖杀掉，还主动撤回了军队。\",<br>\n",
    "\"D、对当年的仇敌，恨之入骨的季布最后被封官，有救命之恩的丁公却被找了个借口处死，高祖这样做，是从巩固自己的统治地位的角度考虑的。\"<br>\n",
    "对于这类题，采用[CLS] TEXT [SEP] Question Description [SEP] A 这种模型输入格式<br>\n",
    "为了将其他选项纳入模型辅助判断该选项，选择输入为[CLS] B [SEP] C [SEP] D\n",
    "\n",
    "2. 对于选项中带有序号的，如<br>\n",
    "\"下列句子，全都能表现愚公移山“意志坚定”的一组是①惩山北之塞，出入之也迂也 ②指通豫南，达于汉阴 ③寒暑易节，始一反焉 ④虽我之死，有子存焉 ⑤帝感其诚，命夸娥氏二子负二山\",<br>\n",
    "\"A. ③④\",<br>\n",
    "\"B. ②⑤\",<br>\n",
    "\"C. ②③\",<br>\n",
    "\"D. ①④\"<br>\n",
    "对于这类题采用[CLS] TEXT [SEP] Question Description [SEP] 惩山北之塞，出入之也迂也 [unused341] 虽我之死，有子存焉 <br>\n",
    "为了将其他选项纳入模型辅助判断该选项，选择输入为[CLS] B [SEP] C [SEP] D, 其中B,C,D分别采用\"指通豫南，达于汉阴 [unused341] 帝感其诚，命夸娥氏二子负二山\" 这样的输入格式<br>\n",
    "\n",
    "由于这些输入采用多个分段符号[SEP],目前预训练模型中支持多个分段符号的，只有XLNet模型<br>\n",
    "将②③这些符号转化成bert词汇表中[unused12][unused13] 这些符号，ord(\"①\")==9312,<br>\n",
    "将选项中的空格用特殊符号进行替换[SPACE]<br>\n",
    "将选项中的(1)这些编号用[unused51]替代，这是因为有这些编号中的context中，可能存在②这些字符。\n",
    "不能混为一谈,要加以区分<br>\n",
    "选项中的abcd这些选项，也使用从[unused51]开始替代。<br>\n",
    "Q_id为274101和012602将删除<br>\n"
   ],
   "metadata": {
    "collapsed": false,
    "pycharm": {
     "name": "#%% md\n",
     "is_executing": false
    }
   }
  },
  {
   "cell_type": "code",
   "execution_count": 58,
   "outputs": [],
   "source": [
    "import unicodedata\n",
    "import re\n",
    "\n",
    "def strQ2B(string):\n",
    "    C_pun = u'，！？【】（）《》“”‘’；：．▏‖'\n",
    "    E_pun = u',!?[]()<>\"\"\\'\\';:.||'\n",
    "    table= {ord(f):ord(t) for f,t in zip(C_pun, E_pun)}\n",
    "    string = string.translate(table)\n",
    "\n",
    "    # 转换说明：\n",
    "    # 全角字符unicode编码从65281~65374 （十六进制 0xFF01 ~ 0xFF5E）\n",
    "    # 半角字符unicode编码从33~126 （十六进制 0x21~ 0x7E）\n",
    "    # 空格比较特殊，全角为 12288（0x3000），半角为 32（0x20）\n",
    "    # 除空格外，全角/半角按unicode编码排序在顺序上是对应的（半角 + 0x7e= 全角）,所以可以直接通过用+-法来处理非空格数据，对空格单独处理。\n",
    "    rstring = \"\"\n",
    "    for uchar in string:\n",
    "        # 返回赋予Unicode字符uchar的字符串型通用分类。\n",
    "        inside_code = ord(uchar)\n",
    "\n",
    "        if inside_code == 0 or inside_code == 0xfffd:\n",
    "            continue\n",
    "        cat = unicodedata.category(uchar)\n",
    "        if cat == \"Mn\" or cat=='Cf' or cat==\"So\":\n",
    "            continue\n",
    "        if inside_code == 12288:  # 全角空格直接转换\n",
    "            inside_code = 32\n",
    "        elif (inside_code >= 65281 and inside_code <= 65374):  # 全角字符（除空格）根据关系转化\n",
    "            inside_code -= 65248\n",
    "\n",
    "        rstring += chr(inside_code)\n",
    "    return rstring"
   ],
   "metadata": {
    "collapsed": false,
    "pycharm": {
     "name": "#%%\n",
     "is_executing": false
    }
   }
  },
  {
   "cell_type": "markdown",
   "source": [
    "分析content的长度"
   ],
   "metadata": {
    "collapsed": false
   }
  },
  {
   "cell_type": "code",
   "execution_count": 54,
   "outputs": [
    {
     "name": "stdout",
     "text": [
      "最长的文本长度: 2931\n最短文本长度: 38\n大于1000的文本数量3450，\n占比0.5463182897862233\n"
     ],
     "output_type": "stream"
    }
   ],
   "source": [
    "spaces = re.compile(\"\\s+\")\n",
    "contents_length = []\n",
    "for d in data:\n",
    "    content = d['Content']\n",
    "    content = strQ2B(content)\n",
    "    content = spaces.sub('', content)\n",
    "    contents_length.append(len(content))\n",
    "\n",
    "contents_length = sorted(contents_length)\n",
    "\n",
    "print(\"最长的文本长度:\",max(contents_length))\n",
    "print(\"最短文本长度:\",min(contents_length))\n",
    "threshold = 1000\n",
    "\n",
    "gt_threshold = list(filter(lambda x:x>threshold,contents_length))\n",
    "print(\"大于{}的文本数量{}，\\n占比{}\".format(threshold, len(gt_threshold),len(gt_threshold)/len(contents_length)))\n",
    "            "
   ],
   "metadata": {
    "collapsed": false,
    "pycharm": {
     "name": "#%%\n",
     "is_executing": false
    }
   }
  },
  {
   "cell_type": "markdown",
   "source": [
    "\"ID\": 126 文本中缺少标识符\n",
    "\"ID\": 2741 选项中缺少标识\n",
    "\n",
    "\n",
    "\"ID\": 2585 程序识别错误\n",
    "\"ID\": 2978 中选项的数字是说明段数\n",
    "\"ID\": 3947 程序处理有误\n",
    "\"ID\": 5213\n",
    "\"ID\": 4623\n",
    "\"ID\": 4416\n"
   ],
   "metadata": {
    "collapsed": false,
    "pycharm": {
     "name": "#%% md\n",
     "is_executing": false
    }
   }
  },
  {
   "cell_type": "code",
   "execution_count": 123,
   "outputs": [],
   "source": [
    "import unicodedata\n",
    "import re\n",
    "from collections import OrderedDict\n",
    "\n",
    "compiles = re.compile(\"\\([0-9A-Za-z]\\)\")\n",
    "special_token_start_index = 9312 #①\n",
    "special_token_start_word = \"[unused%s]\"\n",
    "other_special_start_word = \"[unused%s]\"\n",
    "\n",
    "chinese = re.compile('[\\u4e00-\\u9fa5,。:;]+')\n",
    "\n",
    "def judge_choice_chinses(choices):\n",
    "    \"\"\"判断选项中，是否都没有中文\"\"\"\n",
    "    had_chinses = False\n",
    "    for c in choices:\n",
    "        if chinese.search(c):\n",
    "            had_chinses = True\n",
    "        elif len(\"\".join(number_compile.findall(c)))==len(c):\n",
    "            had_chinses = True\n",
    "    return had_chinses\n",
    "\n",
    "alphabet_comiles = re.compile(\"[A-Za-z]+\")\n",
    "dot_number_compile = re.compile(\"[1-9]\\.\")\n",
    "bracket_compile = re.compile(\"\\([a-zA-Z0-9]\\)\")\n",
    "def judge_choice_alphabet(choices,question,context):\n",
    "    \"\"\"检查选项中，是否含有字母，如果有，再次检测是否是拼英\"\"\"\n",
    "    is_alpha = False\n",
    "    is_from_question = False\n",
    "    all_token_index = []\n",
    "    all_token_from_context = []\n",
    "    all_token_from_question = []\n",
    "    if all([True if alphabet_comiles.search(c) else False for c in choices]) and all([True if c.find(\"(\")==-1 else False for c in choices]):\n",
    "        \"\"\"在每个选项中都找到字母\"\"\"\n",
    "        all_alphabet = sum([alphabet_comiles.findall(c) for c in choices],[])\n",
    "        all_alphabet = set(sum([list(w) for w in all_alphabet],[]))\n",
    "        all_specal_token = all_alphabet\n",
    "        all_alphabet_index_question = [(question.find(w),w,len(w)) if question.find(w)>-1 else (-1,w,len(w)) for w in all_alphabet]\n",
    "        all_alphabet_index_question = sorted(all_alphabet_index_question,key=lambda x:x[0])\n",
    "        filters= list(filter(lambda x:x[0]!=-1,all_alphabet_index_question))\n",
    "        for i,j in zip(filters[:-1],filters[1:]):\n",
    "            if j[0]-i[0] < 2:\n",
    "                is_alpha =True\n",
    "        all_alphabet_index_context = [(context.find(w),w,len(w)) if context.find(w)>-1 else (-1,w,len(w)) for w in all_alphabet]\n",
    "        all_alphabet_index_context = sorted(all_alphabet_index_context,key=lambda x:x[0])\n",
    "        filters= list(filter(lambda x:x[0]!=-1,all_alphabet_index_context))\n",
    "        for i,j in zip(filters[:-1],filters[1:]):\n",
    "            if j[0]-i[0] < 2: #两个字母在文本很相近，说明其可能是拼英\n",
    "                is_alpha =True\n",
    "        if not is_alpha:\n",
    "            all_token_from_context = all_alphabet_index_context\n",
    "            all_token_from_question = all_alphabet_index_question\n",
    "            \n",
    "    if is_alpha or (len(all_token_from_context) == 0 and len(all_token_from_question)==0):\n",
    "        if any([True if 9312<=ord(w)<9362 else False for c in choices for w in c]):\n",
    "            \"\"\"每个选项中③④⑤\"\"\"\n",
    "            all_specal_token = set([a for c in choices for a in c if 9312<=ord(a)<9362])\n",
    "            all_special_from_question = [(question.find(w),w,len(w)) if question.find(w)>-1 else (-1,w,len(w)) for w in all_specal_token]\n",
    "            all_special_fom_context = [(context.find(w),w,len(w)) if context.find(w)>-1 else (-1,w,len(w)) for w in all_specal_token]\n",
    "            all_token_from_question = all_special_from_question\n",
    "            all_token_from_context = all_special_fom_context\n",
    "        elif any([True if dot_number_compile.search(c) else False for c in choices]):\n",
    "            number_compile = re.compile(\"[1-9]\\.?\")\n",
    "            all_specal_token = sum([number_compile.findall(c) for c in choices],[])\n",
    "            all_number_from_question = [(question.find(w),w,len(w)) if question.find(w)>-1 else (-1,w,len(w)) for w in all_specal_token]\n",
    "            all_number_fom_context = [(context.find(w),w,len(w)) if context.find(w)>-1 else (-1,w,len(w)) for w in all_specal_token]\n",
    "            all_token_from_question = all_number_from_question\n",
    "            all_token_from_context = all_number_fom_context\n",
    "        elif any([True if bracket_compile.search(c) else False for c in choices]):\n",
    "            all_specal_token = sum([bracket_compile.findall(c) for c in choices],[])\n",
    "            all_bracket_from_question = [(question.find(w),w,len(w)) if question.find(w)>-1 else (-1,w,len(w)) for w in all_specal_token]\n",
    "            all_bracket_fom_context = [(context.find(w),w,len(w)) if context.find(w)>-1 else (-1,w,len(w)) for w in all_specal_token]\n",
    "            all_token_from_question = all_bracket_from_question\n",
    "            all_token_from_context = all_bracket_fom_context\n",
    "        else:\n",
    "            raise(\"\")\n",
    "    all_token_from_question = list(filter(lambda x:x[0]!=-1,all_token_from_question))\n",
    "    all_token_from_context = list(filter(lambda x:x[0]!=-1,all_token_from_context))\n",
    "    if len(all_token_from_question)==len(all_specal_token):\n",
    "        all_token_index = all_token_from_question\n",
    "        is_from_question = True\n",
    "    elif len(all_token_from_context) == len(all_specal_token):\n",
    "        all_token_index = all_token_from_context\n",
    "    else:\n",
    "        print(all_token_from_context)\n",
    "        print(all_token_from_question)\n",
    "        raise (\"ValueError\")\n",
    "            \n",
    "\n",
    "    return is_alpha,all_token_index,is_from_question\n",
    "\n",
    "    \n",
    "            \n",
    "choice_space = re.compile(\"^[ABCDabcd]\\s?(\\.|、|。)?\")\n",
    "\n",
    "\n",
    "alpha_compile = re.compile(\"[a-zA-Z0-9]\")\n",
    "alphabet = {'a': 1, 'b': 2, 'c': 3, 'd': 4, 'e': 5, 'f': 6, 'g': 7, 'h': 8, 'i': 9, 'j': 10, 'k': 11, 'l': 12, 'm': 13, 'n': 14, 'o': 15, 'p': 16, 'q': 17, 'r': 18, 's': 19, 't': 20, 'u': 21, 'v': 22, 'w': 23, 'x': 24, 'y': 25, 'z': 26}\n",
    "number_compile = re.compile('[0-9]+')\n",
    "def sub_bracket_number(w):\n",
    "    \"\"\"将选项中(1)(2) 或者abcd这些编号替换成[unused5？]从51开始的编号\"\"\"\n",
    "    if len(w)!=1:\n",
    "        w = w.replace(\")\",\"\").replace(\"(\",\"\").replace(\".\",\"\")\n",
    "    w = w.lower()\n",
    "    if number_compile.search(w):\n",
    "        num = number_compile.findall(w)[0]\n",
    "        other_special_word = other_special_start_word%str(50+int(num))\n",
    "        return other_special_word\n",
    "    elif w.lower() in 'abcdefghijklmnopqrstuvwxyz':\n",
    "        num = alphabet[w]\n",
    "        other_special_word = other_special_start_word%str(50+num)\n",
    "        return other_special_word\n",
    "    elif special_token_start_index <= ord(w) <=9362:\n",
    "        \"\"\"①④⑥ 这些替换成[unused1？]，从11开始的特殊字符\"\"\"\n",
    "        special_token_index = ord(w)-special_token_start_index+1\n",
    "        special_token_word = special_token_start_word%str(10+special_token_index)\n",
    "        return special_token_word\n",
    "    else:\n",
    "        print(w)\n",
    "        raise ValueError\n",
    "\n",
    "with open(\"validation.json\", 'r', encoding=\"utf-8\") as f:\n",
    "    answer_no_chinese = json.load(f)\n",
    "\n",
    "\n",
    "new_data = []\n",
    "will_drop_q_id = [\"012602\",\"274101\"]\n",
    "# 训练集中，297802是询问自然段\n",
    "\n",
    "for d in answer_no_chinese:\n",
    "    new_d = OrderedDict()\n",
    "    text = d['Content']\n",
    "    text = strQ2B(text)\n",
    "    ID = d['ID']\n",
    "    all_token_from_contexts = []\n",
    "    Questions= []\n",
    "    for q in d['Questions']:\n",
    "        new_q = OrderedDict()\n",
    "        question = q['Question']\n",
    "        question = strQ2B(question)\n",
    "        choices = q['Choices']\n",
    "        # answer_id = q['Answer']\n",
    "        Q_id = q['Q_id']\n",
    "        for index, c in enumerate(choices):\n",
    "            choices[index] =re.sub(\"\\s+\",\"\",choice_space.sub('',strQ2B(c)).strip())\n",
    "        if not judge_choice_chinses(choices) and q['Q_id']  not in will_drop_q_id:\n",
    "            new_choices = []\n",
    "            is_alpha,all_token_from_question,is_from_question = judge_choice_alphabet(choices,question,text)\n",
    "            if len(all_token_from_question):\n",
    "                if is_from_question:\n",
    "                    # print(all_token_from_question)\n",
    "                    all_token_from_question = sorted(all_token_from_question,key=lambda x:x[0],reverse=True)\n",
    "                    all_alphabet = [w for _,w,_ in all_token_from_question]\n",
    "                    for i,w,length in all_token_from_question:\n",
    "                        su_word = sub_bracket_number(w)\n",
    "                        question = question[:int(i)]+su_word+question[int(i)+int(length):]\n",
    "                else:\n",
    "                    all_token_from_context = sorted(all_token_from_question,key=lambda x:x[0],reverse=True)\n",
    "                    all_alphabet = [w for _,w,_ in all_token_from_context]\n",
    "                    all_token_from_contexts.extend(all_token_from_context)\n",
    "                    # print(all_token_from_context)\n",
    "\n",
    "                for c in choices:\n",
    "                    ab={}\n",
    "                    for a in all_alphabet:\n",
    "                        if c.find(a)>-1:\n",
    "                            c_index = c.find(a)\n",
    "                            ab[a]=c_index\n",
    "                    for w,i in sorted(ab.items(),key=lambda x:x[1],reverse=True):\n",
    "                        c= c[:i] + sub_bracket_number(w) +c[i+len(w):]\n",
    "                    \n",
    "                    new_choices.append(c)\n",
    "            else:\n",
    "                print(d['ID'])\n",
    "\n",
    "                print(choices)\n",
    "            choices = new_choices\n",
    "\n",
    "        new_q['Questions']= question.lower()\n",
    "        new_q['Choices'] = choices\n",
    "        # new_q['Answer'] = answer_id\n",
    "        new_q['Q_id'] = Q_id\n",
    "        Questions.append(new_q)\n",
    "        \n",
    "    if len(all_token_from_contexts):\n",
    "        all_token_from_contexts = sorted(set(all_token_from_contexts),key=lambda x:x[0],reverse=True)\n",
    "        \n",
    "        for i,w,length in all_token_from_contexts:\n",
    "            su_word = sub_bracket_number(w)\n",
    "            if w != text[i:i+length]:\n",
    "                # print(d['ID'],text[i:i+length],w)\n",
    "                # print(all_token_from_contexts)\n",
    "                break\n",
    "            text = text[:int(i)]+su_word+text[int(i)+int(length):]\n",
    "\n",
    "    new_d[\"ID\"] = ID\n",
    "    new_d['Content'] = text\n",
    "    new_d['Questions'] = Questions\n",
    "    new_data.append(new_d)\n",
    "\n",
    "with open(\"validation_v2.json\", 'w', encoding=\"utf-8\") as f:\n",
    "    f.write(json.dumps(new_data,ensure_ascii=False))"
   ],
   "metadata": {
    "collapsed": false,
    "pycharm": {
     "name": "#%%\n",
     "is_executing": false
    }
   }
  },
  {
   "cell_type": "code",
   "execution_count": 8,
   "outputs": [
    {
     "data": {
      "text/plain": "['(1)', '(2)']"
     },
     "metadata": {},
     "output_type": "execute_result",
     "execution_count": 8
    }
   ],
   "source": [],
   "metadata": {
    "collapsed": false,
    "pycharm": {
     "name": "#%%\n",
     "is_executing": false
    }
   }
  }
 ],
 "metadata": {
  "language_info": {
   "codemirror_mode": {
    "name": "ipython",
    "version": 2
   },
   "file_extension": ".py",
   "mimetype": "text/x-python",
   "name": "python",
   "nbconvert_exporter": "python",
   "pygments_lexer": "ipython2",
   "version": "2.7.6"
  },
  "kernelspec": {
   "name": "python3",
   "language": "python",
   "display_name": "Python 3"
  },
  "pycharm": {
   "stem_cell": {
    "cell_type": "raw",
    "source": [],
    "metadata": {
     "collapsed": false
    }
   }
  }
 },
 "nbformat": 4,
 "nbformat_minor": 0
}